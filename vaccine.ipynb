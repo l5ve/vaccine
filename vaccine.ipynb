{
 "cells": [
  {
   "cell_type": "markdown",
   "metadata": {},
   "source": [
    "##### 2020 CAU 보안시스템 운영과 활용 \n",
    "###### 네트워크 보안시스템 실습 프로젝트\n",
    "20161856 한지효\n",
    "<br>\n",
    "<br>\n",
    "## < 백신 만들어보기 >\n",
    "<br>\n"
   ]
  },
  {
   "cell_type": "code",
   "execution_count": null,
   "metadata": {},
   "outputs": [],
   "source": [
    " "
   ]
  },
  {
   "cell_type": "markdown",
   "metadata": {},
   "source": [
    "### 1. 전용 백신\n",
    "* <b>전용백신</b>: 하나의 악성코드를 진단 및 치료하는 백신  \n",
    "* 해당 악성코드에 대해서는 빠르고 정확하지만 범욤성이 떨어진다.   \n"
   ]
  },
  {
   "cell_type": "markdown",
   "metadata": {},
   "source": [
    "#### - 1.1 악성코드의 문자열(패턴)을 읽어 악성코드 여부 확인  "
   ]
  },
  {
   "cell_type": "code",
   "execution_count": 31,
   "metadata": {},
   "outputs": [
    {
     "name": "stdout",
     "output_type": "stream",
     "text": [
      "악성코드 발견!\n",
      "파일이 삭제되었습니다.\n"
     ]
    }
   ],
   "source": [
    "import os\n",
    "\n",
    "file = './malwares/eicar1.txt'\n",
    "fp = open(file, 'r')\n",
    "fbuf = fp.read() # 파일 객체로부터 내용 읽어들여 버퍼에 저장\n",
    "fp.close()\n",
    "\n",
    "if fbuf[0:3] == 'X5O':    # 버퍼 내용의 첫 세 글자가 X5O일 경우 악성코드로 진단\n",
    "    print('악성코드 발견!')\n",
    "    os.chmod(file, 0o777) # 파일에 대한 권한 할당\n",
    "    os.remove(file)       # 파일 강제 삭제 (치료)\n",
    "    print('파일이 삭제되었습니다.')\n",
    "else: print('악성코드가 없음')"
   ]
  },
  {
   "cell_type": "markdown",
   "metadata": {},
   "source": [
    "#### - 1.2 해시값 탐지 도입\n",
    "<br>  \n",
    "* 문자열만 탐지하기에는 오진 가능성 높음\n",
    "* 강력하진 않아도 속도가 빠른 <b>MD5</b> 해시 알고리즘 이용  \n",
    "<br>  \n",
    "MD5 해시로 진단 가능 악성코드:  \n",
    "바이러스 유형을 제외한 파일 그 자체가 악성코드인 것\n",
    "###### ex) 트로이목마, 백도어, 웜"
   ]
  },
  {
   "cell_type": "code",
   "execution_count": 32,
   "metadata": {},
   "outputs": [
    {
     "name": "stdout",
     "output_type": "stream",
     "text": [
      "44d88612fea8a8f36de82e1278abb02f\n"
     ]
    }
   ],
   "source": [
    "import hashlib # MD5를 구하기 위해 import\n",
    "import os\n",
    "\n",
    "file = './malwares/eicar2.txt'\n",
    "fp = open(file, 'rb') # 바이너리 모드로 읽어들여 파일객체 생성\n",
    "fbuf = fp.read()      # 파일객체로부터 내용 읽어들여 버퍼에 저장\n",
    "fp.close()\n",
    "\n",
    "f = hashlib.md5() # MD5 hash function\n",
    "f.update(fbuf)    # hashing\n",
    "hashValue = f.hexdigest() # 메시지 다이제스트를 얻음(16진수 해시값)\n",
    "\n",
    "print(hashValue)"
   ]
  },
  {
   "cell_type": "code",
   "execution_count": 33,
   "metadata": {},
   "outputs": [
    {
     "name": "stdout",
     "output_type": "stream",
     "text": [
      "악성코드 발견!\n",
      "파일이 삭제되었습니다.\n"
     ]
    }
   ],
   "source": [
    "# 악성코드의 해시값을 이용하여 진단 및 치료\n",
    "if hashValue == '44d88612fea8a8f36de82e1278abb02f': # eicar2.txt 파일의 MD5 해시값\n",
    "    print( '악성코드 발견!')\n",
    "    os.chmod(file, 0o777)\n",
    "    os.remove(file)\n",
    "    print('파일이 삭제되었습니다.')\n",
    "else: print('악성코드가 없음')"
   ]
  },
  {
   "cell_type": "code",
   "execution_count": null,
   "metadata": {},
   "outputs": [],
   "source": [
    " "
   ]
  },
  {
   "cell_type": "markdown",
   "metadata": {},
   "source": [
    "### 2. 통합 백신\n",
    "* DB에 등록된 여러 악성코드를 탐지"
   ]
  },
  {
   "cell_type": "markdown",
   "metadata": {},
   "source": [
    "#### - 2.1 악성코드의 해시값이 담긴 DB와 검색 기능 생성"
   ]
  },
  {
   "cell_type": "code",
   "execution_count": 34,
   "metadata": {},
   "outputs": [],
   "source": [
    "def makeDB():\n",
    "    malwareDB = { # 파일 이름: 해시값, 파일 크기\n",
    "        'EICAR' : ['44d88612fea8a8f36de82e1278abb02f', 68],\n",
    "        'JIHYO' : ['4550049fcce72c47413b48c138ce72c4', 137]\n",
    "    }\n",
    "    return malwareDB\n",
    "\n",
    "def searchDB(hashValue, malwareDB):\n",
    "    for key, value in malwareDB.items(): # DB에 해당 해시값이 존재할 경우\n",
    "        if value[0] == hashValue:\n",
    "            return True, key             # 악성코드 이름과 함께 return\n",
    "    return False, ''"
   ]
  },
  {
   "cell_type": "markdown",
   "metadata": {},
   "source": [
    "#### - 2.2 악성코드를 진단하고 치료하는 백신 생성"
   ]
  },
  {
   "cell_type": "code",
   "execution_count": 35,
   "metadata": {},
   "outputs": [],
   "source": [
    "def vaccine(fileLocation):\n",
    "    malwareDB = makeDB() # DB 가져오기\n",
    "    sizeDB = map(lambda value: value[1], malwareDB.values()) # 악성코드 크기만\n",
    "\n",
    "    fp = open(fileLocation, 'rb')\n",
    "    \n",
    "    # ------------ 속도 향상을 위한 파일 크기 색출 ------------ #\n",
    "    fileSize = os.path.getsize(fileLocation)\n",
    "    if fileSize not in sizeDB:\n",
    "        print(f'-- Normal File \\n{fileLocation}')\n",
    "        return # 악성코드에 해당하는 파일크기가 아니라면 pass\n",
    "    # --------------------------------------------------------- #\n",
    "    \n",
    "    fbuf = fp.read()\n",
    "    fp.close()\n",
    "\n",
    "    # ---------------------- 해시값 탐지 ---------------------- #\n",
    "    f = hashlib.md5() # MD5 hash function\n",
    "    f.update(fbuf)    # hashing\n",
    "    hashValue = f.hexdigest() # 메시지 다이제스트 get (16진수 해시값)\n",
    "    \n",
    "    # 구한 해시값을 넣어 악성코드 여부와 그 이름 탐지\n",
    "    isMalware, name = searchDB(hashValue, malwareDB) \n",
    "    # --------------------------------------------------------- #\n",
    "    \n",
    "    \n",
    "    if isMalware == True:\n",
    "        print(f'-- 악성코드 탐지( {name} ) \\n{fileLocation}')\n",
    "        os.chmod(fileLocation, 0o777)\n",
    "        os.remove(fileLocation)\n",
    "        print('-- 파일이 삭제되었습니다.\\n')\n",
    "    else: print(f'-- Normal File \\n{fileLocation}')"
   ]
  },
  {
   "cell_type": "code",
   "execution_count": 36,
   "metadata": {},
   "outputs": [
    {
     "name": "stdout",
     "output_type": "stream",
     "text": [
      "-- 악성코드 탐지( EICAR ) \n",
      "./malwares/eicar3.txt\n",
      "-- 파일이 삭제되었습니다.\n",
      "\n",
      "-- 악성코드 탐지( JIHYO ) \n",
      "./malwares/jihyo1.txt\n",
      "-- 파일이 삭제되었습니다.\n",
      "\n",
      "-- Normal File \n",
      "./malwares/normal.txt\n"
     ]
    }
   ],
   "source": [
    "vaccine('./malwares/eicar3.txt')\n",
    "vaccine('./malwares/jihyo1.txt')\n",
    "vaccine('./malwares/normal.txt')"
   ]
  },
  {
   "cell_type": "code",
   "execution_count": null,
   "metadata": {},
   "outputs": [],
   "source": []
  },
  {
   "cell_type": "markdown",
   "metadata": {},
   "source": [
    "### 3. 악성코드 정보가 담긴 (암호화된) DB파일을 통한 진단\n",
    "* 악성코드 정보 진단의 용이를 위해 그 패턴(정보)만 따로 관리하는 DB 파일 생성\n",
    "* 이때, 백신의 신뢰성(공격 및 오진 방지)을 위해 해당 파일을 암호화"
   ]
  },
  {
   "cell_type": "markdown",
   "metadata": {},
   "source": [
    "#### - 3.1 AES 암호화 기능 도입\n",
    "** 단순화를 위해 헤더 추가, 해시화 등은 제외함"
   ]
  },
  {
   "cell_type": "code",
   "execution_count": 37,
   "metadata": {},
   "outputs": [],
   "source": [
    "import pyaes # import AES library\n",
    "  \n",
    "def AES_encrypt(key, plaintext):\n",
    "    aes = pyaes.AESModeOfOperationCTR(str.encode(key)) # CTR mode chosen for stream cipher\n",
    "    encryptedtext = aes.encrypt(plaintext) # cipher text creation\n",
    "    return encryptedtext\n",
    "\n",
    "def AES_decrypt(key, encryptedtext):\n",
    "    aes = pyaes.AESModeOfOperationCTR(str.encode(key))\n",
    "    decryptedtext = aes.decrypt(encryptedtext)    \n",
    "    return decryptedtext"
   ]
  },
  {
   "cell_type": "code",
   "execution_count": 39,
   "metadata": {},
   "outputs": [
    {
     "name": "stdout",
     "output_type": "stream",
     "text": [
      "Enter: hello world!\n",
      "\n",
      " The Encrypted text (in bytes): \n",
      " b'I\\xb3`\\xb7\\xa6\\xef\\x10n\\xe9\\xb0\\xf6^'\n",
      "\n",
      " The Decrypted text (in bytes): \n",
      " b'hello world!'\n"
     ]
    }
   ],
   "source": [
    "# 256 bit (32 byte) key chosen\n",
    "key = '2020_CAU__Han_Jihyo_20161856_CSE'\n",
    "\n",
    "p = input('Enter: ')\n",
    "e = AES_encrypt(key, p)\n",
    "print(\"\\n The Encrypted text (in bytes): \\n\", e)\n",
    "d = AES_decrypt(key, e)\n",
    "print(\"\\n The Decrypted text (in bytes): \\n\", d)"
   ]
  },
  {
   "cell_type": "markdown",
   "metadata": {},
   "source": [
    "#### - 3.2 DB 파일 암호화"
   ]
  },
  {
   "cell_type": "code",
   "execution_count": 40,
   "metadata": {},
   "outputs": [],
   "source": [
    "import zlib # 압축을 위해 import\n",
    "\n",
    "def crypt(inputFile):\n",
    "    \n",
    "    fp = open(inputFile, 'rb')\n",
    "    fbuf = fp.read()\n",
    "    fp.close()\n",
    "\n",
    "    compressed = zlib.compress(fbuf)\n",
    "    \n",
    "    # ------------- 암호화된 DB 파일 생성 후 저장 ------------- #\n",
    "    cypherText = AES_encrypt(key, fbuf) # 파일 암호화\n",
    "    \n",
    "    outputFile = inputFile.split(' ')[0] + '.secure' # 새로 만들어질 파일 이름\n",
    "\n",
    "    fp = open(outputFile, 'wb')\n",
    "    fp.write(cypherText)\n",
    "    fp.close()\n",
    "    # --------------------------------------------------------- #\n",
    "    \n",
    "    print(f'파일 암호화 완료!\\n {inputFile} -> {outputFile}')\n",
    "    "
   ]
  },
  {
   "cell_type": "code",
   "execution_count": 41,
   "metadata": {},
   "outputs": [
    {
     "name": "stdout",
     "output_type": "stream",
     "text": [
      "파일 암호화 완료!\n",
      " ./malware.db -> ./malware.db.secure\n"
     ]
    }
   ],
   "source": [
    "crypt('./malware.db')"
   ]
  },
  {
   "cell_type": "markdown",
   "metadata": {},
   "source": [
    "#### - 3.3 암호화된 DB 파일 복호화하여 악성코드 정보 불러오기"
   ]
  },
  {
   "cell_type": "code",
   "execution_count": 42,
   "metadata": {},
   "outputs": [],
   "source": [
    "\n",
    "# --- 복호화 ----------------------------------------------- #\n",
    "def decrypt(inputFile):\n",
    "    fp = open(inputFile, 'rb')\n",
    "    fbuf = fp.read()\n",
    "    fp.close()\n",
    "    \n",
    "    decrypted = AES_decrypt(key, fbuf)\n",
    "    return decrypted\n",
    "\n",
    "\n",
    "# --- 악성코드 정보 읽어오기 ------------------------------ #\n",
    "def loadDB(fileName):\n",
    "    fbuf = decrypt(fileName)\n",
    "    patterns = fbuf.split()\n",
    "    return patterns\n",
    "\n",
    "\n",
    "# --- 악성코드 정보를 모아놓은 Database 생성 -------------- #\n",
    "def makeDB(fileName):\n",
    "    malwareDB = {}\n",
    "    patterns = loadDB(fileName)\n",
    "    \n",
    "    for pattern in patterns: # 악성코드 정보 하나 당\n",
    "        p = pattern.decode('utf-8').split(':')  # 콜론 기준으로 자르기\n",
    "        \n",
    "        name = p[0]                      # 악성코드 이름\n",
    "        information = [p[1], int(p[2])]  # 그 해시값, 파일 크기\n",
    "        malwareDB[name] = information    # DB에 추가해줌\n",
    "\n",
    "    return malwareDB\n"
   ]
  },
  {
   "cell_type": "markdown",
   "metadata": {},
   "source": [
    "#### - 3.4 악성코드를 진단하고 치료하는 백신 생성 (2.2와 동일)"
   ]
  },
  {
   "cell_type": "code",
   "execution_count": 43,
   "metadata": {},
   "outputs": [],
   "source": [
    "def vaccine(fileLocation):\n",
    "    malwareDB = makeDB('./malware.db.secure') # DB 가져오기\n",
    "                                              # !! 이 부분만 다름\n",
    "    sizeDB = map(lambda value: value[1], malwareDB.values()) # 악성코드 크기만\n",
    "\n",
    "    fp = open(fileLocation, 'rb')\n",
    "    \n",
    "    # ------------ 속도 향상을 위한 파일 크기 색출 ------------ #\n",
    "    fileSize = os.path.getsize(fileLocation)\n",
    "    if fileSize not in sizeDB:\n",
    "        print(f'-- Normal File \\n{fileLocation}')\n",
    "        return # 악성코드에 해당하는 파일크기가 아니라면 pass\n",
    "    # --------------------------------------------------------- #\n",
    "    \n",
    "    fbuf = fp.read()\n",
    "    fp.close()\n",
    "\n",
    "    # ---------------------- 해시값 탐지 ---------------------- #\n",
    "    f = hashlib.md5() # MD5 hash function\n",
    "    f.update(fbuf)    # hashing\n",
    "    hashValue = f.hexdigest() # 메시지 다이제스트 get (16진수 해시값)\n",
    "    \n",
    "    # 구한 해시값을 넣어 악성코드 여부와 그 이름 탐지\n",
    "    isMalware, name = searchDB(hashValue, malwareDB) \n",
    "    # --------------------------------------------------------- #\n",
    "    \n",
    "    \n",
    "    if isMalware == True:\n",
    "        print(f'-- 악성코드 탐지( {name} ) \\n{fileLocation}')\n",
    "        os.chmod(fileLocation, 0o777)\n",
    "        os.remove(fileLocation)\n",
    "        print('-- 파일이 삭제되었습니다.\\n')\n",
    "    else: print(f'-- Normal File \\n{fileLocation}')"
   ]
  },
  {
   "cell_type": "code",
   "execution_count": 44,
   "metadata": {},
   "outputs": [
    {
     "name": "stdout",
     "output_type": "stream",
     "text": [
      "-- 악성코드 탐지( EICAR ) \n",
      "./malwares/eicar4.txt\n",
      "-- 파일이 삭제되었습니다.\n",
      "\n",
      "-- 악성코드 탐지( JIHYO ) \n",
      "./malwares/jihyo2.txt\n",
      "-- 파일이 삭제되었습니다.\n",
      "\n",
      "-- Normal File \n",
      "./malwares/normal.txt\n"
     ]
    }
   ],
   "source": [
    "vaccine('./malwares/eicar4.txt')\n",
    "vaccine('./malwares/jihyo2.txt')\n",
    "vaccine('./malwares/normal.txt')"
   ]
  },
  {
   "cell_type": "code",
   "execution_count": null,
   "metadata": {},
   "outputs": [],
   "source": []
  },
  {
   "cell_type": "markdown",
   "metadata": {},
   "source": [
    "###### 참고 사이트: https://zong.tistory.com/13"
   ]
  },
  {
   "cell_type": "code",
   "execution_count": null,
   "metadata": {},
   "outputs": [],
   "source": []
  }
 ],
 "metadata": {
  "kernelspec": {
   "display_name": "Python 3",
   "language": "python",
   "name": "python3"
  },
  "language_info": {
   "codemirror_mode": {
    "name": "ipython",
    "version": 3
   },
   "file_extension": ".py",
   "mimetype": "text/x-python",
   "name": "python",
   "nbconvert_exporter": "python",
   "pygments_lexer": "ipython3",
   "version": "3.7.4"
  }
 },
 "nbformat": 4,
 "nbformat_minor": 2
}
